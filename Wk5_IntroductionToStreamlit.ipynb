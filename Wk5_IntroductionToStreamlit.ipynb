{
 "cells": [
  {
   "cell_type": "markdown",
   "metadata": {},
   "source": [
    "# 1. Assignment\n",
    "\n",
    "1. Continue Iterating on the Data Science process we discussed and improve your models\n",
    "2. Convert all your visualizations (EDA & Evaluation) into interactive plots via streamlit & plotly express\n",
    "\n",
    "\n",
    "## Deliverables\n",
    "\n",
    "To your assignment-week-5 branch, add the following files:\n",
    "1. A notebook consolidating all the EDA, Modelling & Evaluation you have done so far\n",
    "2. A python file containing the streamlit"
   ]
  }
 ],
 "metadata": {
  "language_info": {
   "name": "python"
  }
 },
 "nbformat": 4,
 "nbformat_minor": 2
}
