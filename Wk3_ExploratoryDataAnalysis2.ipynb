{
 "cells": [
  {
   "metadata": {},
   "cell_type": "markdown",
   "source": [
    "## 1. Structure & Guidelines\n",
    "\n",
    "**Problem Statement & Dataset Decision**:\n",
    "For this project, our partner and I have chosen to investigate whether incorporating social media sentiment (from Twitter/X and Reddit) into historical stock market data can enhance our trading models. Our dataset comprises two parts:\n",
    "- **Historical Stock Data**: Daily OHLC and Volume CSV files stored in the `hist/` folder.\n",
    "- **Social Media Sentiment**: Daily aggregated sentiment scores (generated via web scraping and NLP, e.g., using VADER) for selected tickers (stored in files like `sentiment_<TICKER>.csv`).\n",
    "\n",
    "*Note: This problem statement will guide our entire analysis. Although we might refine the statement and dataset in future assignments, this serves as our nexus for now.*\n",
    "\n",
    "---\n"
   ]
  },
  {
   "metadata": {},
   "cell_type": "markdown",
   "source": [
    "## 2. Assignment Questions/Tasks\n",
    "\n",
    "1) **Discuss & write down a problem statement**\n",
    "   - Our focus: \"Can social media sentiment improve short-term trading signal accuracy when combined with historical price data?\"\n",
    "\n",
    "2) **Find a Dataset(s) that will help you solve your problem**\n",
    "   - We use historical stock CSV files (in `hist/`) and sentiment CSV files from Twitter/X and Reddit.\n",
    "\n",
    "3) **EDA Study**\n",
    "   - We will follow guides from Analytics Vidhya and the Python Data Science Handbook for our initial analysis.\n",
    "\n",
    "4) **Start your EDA**\n",
    "   - We will load our stock and sentiment data, perform data cleaning, and generate visualizations to form hypotheses.\n",
    "\n",
    "5) **Use 5 additional visualizations/techniques**\n",
    "   - We’ll include additional plots (e.g., time series overlays, scatter plots, violin plots for sentiment, etc.) beyond the base example.\n",
    "\n",
    "6) **Write down insights**\n",
    "   - We will summarize key findings and link them back to our problem statement.\n",
    "\n",
    "---\n"
   ]
  },
  {
   "metadata": {},
   "cell_type": "markdown",
   "source": [
    "## 3. Exploratory Data Analysis\n",
    "\n",
    "Below we perform a detailed EDA on our combined dataset.\n",
    "*Note: For illustration, we use a single ticker (\"AAPL\"). Adjust file names and parameters for additional tickers.*\n"
   ]
  },
  {
   "metadata": {},
   "cell_type": "markdown",
   "source": "### 1. Data Loading & Quick Overview"
  },
  {
   "metadata": {},
   "cell_type": "code",
   "outputs": [],
   "execution_count": null,
   "source": [
    "\n",
    "import pandas as pd\n",
    "import numpy as np\n",
    "import matplotlib.pyplot as plt\n",
    "import seaborn as sns\n",
    "\n",
    "sns.set(style=\"whitegrid\")\n",
    "\n",
    "# Load stock data (historical price data for AAPL)\n",
    "df_price = pd.read_csv(\"hist/AAPL.csv\")\n",
    "df_price['Date'] = pd.to_datetime(df_price['Date'])\n",
    "df_price.set_index('Date', inplace=True)\n",
    "\n",
    "# Load sentiment data (daily aggregated sentiment scores for AAPL)\n",
    "df_sent = pd.read_csv(\"sentiment_AAPL.csv\")\n",
    "df_sent['Date'] = pd.to_datetime(df_sent['Date'])\n",
    "df_sent.set_index('Date', inplace=True)\n",
    "\n",
    "# Merge datasets on Date\n",
    "df = df_price.join(df_sent, how='left')\n",
    "df.fillna(0, inplace=True)  # Fill missing sentiment scores with 0\n",
    "\n",
    "# Display first few rows\n",
    "df.head()\n"
   ]
  },
  {
   "metadata": {},
   "cell_type": "markdown",
   "source": [
    "#### Questions to Ponder:\n",
    "1. Does the merged data capture both price and sentiment as expected?\n",
    "2. Are the dates aligned properly between stock prices and sentiment?\n",
    "3. Is there any immediate sign of missing or inconsistent data?\n",
    "\n",
    "---\n"
   ]
  },
  {
   "metadata": {},
   "cell_type": "markdown",
   "source": "### 2. Shape & Features"
  },
  {
   "metadata": {},
   "cell_type": "code",
   "outputs": [],
   "execution_count": null,
   "source": [
    "\n",
    "print(f\"Dataset shape: {df.shape}\")\n",
    "\n",
    "# Display column names (e.g., Open, High, Low, Close, Volume, sentiment_score)\n",
    "print(\"\\nFeature Names:\")\n",
    "print(df.columns.tolist())\n"
   ]
  },
  {
   "metadata": {},
   "cell_type": "markdown",
   "source": [
    "#### Questions to Ponder:\n",
    "1. Is the dataset large enough for a robust analysis?\n",
    "2. Do the features match our problem requirements?\n",
    "3. Are there any columns that might need renaming or removal?\n",
    "\n",
    "---\n"
   ]
  },
  {
   "metadata": {},
   "cell_type": "markdown",
   "source": "### 3. Data Types & Missing Values"
  },
  {
   "metadata": {},
   "cell_type": "code",
   "outputs": [],
   "execution_count": null,
   "source": [
    "\n",
    "print(\"Data Types:\")\n",
    "print(df.dtypes)\n",
    "\n",
    "print(\"\\nMissing Values Count:\")\n",
    "print(df.isnull().sum())\n"
   ]
  },
  {
   "metadata": {},
   "cell_type": "markdown",
   "source": [
    "#### Questions to Ponder:\n",
    "- Should we drop or impute any missing values?\n",
    "- Does the absence of sentiment on some dates provide insight?\n",
    "\n",
    "---\n"
   ]
  },
  {
   "metadata": {},
   "cell_type": "markdown",
   "source": "### 4. Summary Statistics & Outlier Detection"
  },
  {
   "metadata": {},
   "cell_type": "code",
   "outputs": [],
   "execution_count": null,
   "source": [
    "\n",
    "# Display summary statistics for numerical features\n",
    "df.describe()\n"
   ]
  },
  {
   "metadata": {},
   "cell_type": "markdown",
   "source": [
    "#### Questions to Ponder:\n",
    "- Which features show extreme values or outliers?\n",
    "- Are there any unexpected ranges in price or sentiment scores?\n",
    "- Do outliers suggest market anomalies or data errors?\n",
    "\n",
    "---\n"
   ]
  },
  {
   "metadata": {},
   "cell_type": "markdown",
   "source": "### 5. Univariate Analysis"
  },
  {
   "metadata": {},
   "cell_type": "code",
   "outputs": [],
   "execution_count": null,
   "source": [
    "\n",
    "# Define numerical features for visualization\n",
    "num_features = ['Open', 'High', 'Low', 'Close', 'Volume', 'sentiment_score']\n",
    "\n",
    "# Create histograms for numerical features\n",
    "fig, ax = plt.subplots(2, 3, figsize=(18, 12))\n",
    "for i, feature in enumerate(num_features):\n",
    "    row, col = divmod(i, 3)\n",
    "    sns.histplot(df[feature], kde=True, bins=30, ax=ax[row, col])\n",
    "    ax[row, col].set_title(f'Distribution of {feature}')\n",
    "plt.tight_layout()\n",
    "plt.show()\n",
    "\n",
    "# Boxplots for numerical variables\n",
    "fig, ax = plt.subplots(2, 3, figsize=(18, 12))\n",
    "for i, feature in enumerate(num_features):\n",
    "    row, col = divmod(i, 3)\n",
    "    sns.boxplot(y=df[feature], ax=ax[row, col])\n",
    "    ax[row, col].set_title(f'Boxplot of {feature}')\n",
    "plt.tight_layout()\n",
    "plt.show()\n"
   ]
  },
  {
   "metadata": {},
   "cell_type": "markdown",
   "source": [
    "#### Questions to Ponder:\n",
    "- Are the distributions of stock prices and sentiment scores skewed?\n",
    "- Which features show signs of potential outliers?\n",
    "\n",
    "---\n"
   ]
  },
  {
   "metadata": {},
   "cell_type": "markdown",
   "source": "### 6. Bivariate Analysis"
  },
  {
   "metadata": {},
   "cell_type": "code",
   "outputs": [],
   "execution_count": null,
   "source": [
    "\n",
    "# Scatter plot: sentiment_score vs. Close\n",
    "sns.scatterplot(data=df, x='sentiment_score', y='Close')\n",
    "plt.title(\"Sentiment Score vs. Closing Price\")\n",
    "plt.show()\n",
    "\n",
    "# Time series overlay: Closing price and sentiment\n",
    "fig, ax1 = plt.subplots(figsize=(12, 6))\n",
    "ax2 = ax1.twinx()\n",
    "ax1.plot(df.index, df['Close'], color='blue', label='Close')\n",
    "ax2.plot(df.index, df['sentiment_score'], color='red', label='Sentiment Score', alpha=0.7)\n",
    "ax1.set_xlabel(\"Date\")\n",
    "ax1.set_ylabel(\"Closing Price\", color='blue')\n",
    "ax2.set_ylabel(\"Sentiment Score\", color='red')\n",
    "plt.title(\"Closing Price & Sentiment Over Time\")\n",
    "plt.legend()\n",
    "plt.show()\n",
    "\n",
    "# Box plot: Compare sentiment by a price-level bin (e.g., high vs. low close)\n",
    "df['price_bin'] = pd.qcut(df['Close'], 4, labels=[\"Low\", \"Medium\", \"High\", \"Very High\"])\n",
    "sns.boxplot(x='price_bin', y='sentiment_score', data=df)\n",
    "plt.title(\"Sentiment Distribution Across Price Bins\")\n",
    "plt.show()\n"
   ]
  },
  {
   "metadata": {},
   "cell_type": "markdown",
   "source": [
    "#### Questions to Ponder:\n",
    "- Is there a visible relationship between sentiment and closing price?\n",
    "- Do certain price bins show higher sentiment volatility?\n",
    "\n",
    "---\n"
   ]
  },
  {
   "metadata": {},
   "cell_type": "markdown",
   "source": "### 7. Multivariate Analysis"
  },
  {
   "metadata": {},
   "cell_type": "code",
   "outputs": [],
   "execution_count": null,
   "source": [
    "\n",
    "# Correlation heatmap for numerical features\n",
    "plt.figure(figsize=(10, 8))\n",
    "sns.heatmap(df[num_features].corr(), annot=True, cmap='coolwarm', fmt=\".2f\")\n",
    "plt.title(\"Correlation Heatmap of Numerical Features\")\n",
    "plt.show()\n"
   ]
  },
  {
   "metadata": {},
   "cell_type": "markdown",
   "source": [
    "#### Questions to Ponder:\n",
    "- Which features are strongly correlated with price or sentiment?\n",
    "- Do any correlations challenge our initial assumptions?\n",
    "\n",
    "---\n"
   ]
  },
  {
   "metadata": {},
   "cell_type": "markdown",
   "source": "### 8. Next Steps & Additional Visualizations"
  },
  {
   "metadata": {},
   "cell_type": "markdown",
   "source": [
    "#### Additional Visualizations/Techniques (choose at least 5):\n",
    "1. **Rolling Mean & Standard Deviation**: Plot a rolling mean and rolling standard deviation for Close and sentiment_score.\n",
    "2. **Violin Plots**: Visualize the distribution of sentiment scores per price_bin using violin plots.\n",
    "3. **Lag Analysis**: Create scatter plots comparing today's sentiment with next-day price changes.\n",
    "4. **Joint Plot**: Use a joint plot to examine the relationship between Volume and sentiment_score.\n",
    "5. **Time Series Decomposition**: Decompose the Close price time series to inspect trend and seasonality.\n",
    "\n",
    "*Add your code and findings for these techniques in your notebook.*\n",
    "\n",
    "---\n"
   ]
  },
  {
   "metadata": {},
   "cell_type": "markdown",
   "source": "### 9. Insights & How It Relates Back to the Problem"
  },
  {
   "metadata": {},
   "cell_type": "markdown",
   "source": [
    "**Key Insights**:\n",
    "- The merged dataset successfully combines stock price and sentiment data.\n",
    "- Preliminary EDA suggests that on days when sentiment is strongly positive (or negative), there might be noticeable shifts in closing prices.\n",
    "- Some outliers in sentiment coincide with significant market events, suggesting that extreme sentiment could serve as a trading signal.\n",
    "- The correlation heatmap shows moderate correlation between sentiment_score and Close price, warranting further model-based investigation.\n",
    "\n",
    "**Relation to the Problem Statement**:\n",
    "- If sentiment scores can help predict short-term price movements, our trading model incorporating these features should outperform a model based solely on technical indicators.\n",
    "- These insights will guide our feature engineering and modeling decisions in subsequent phases of the project.\n",
    "\n",
    "---\n"
   ]
  },
  {
   "metadata": {},
   "cell_type": "markdown",
   "source": ""
  },
  {
   "metadata": {},
   "cell_type": "markdown",
   "source": [
    "## Resources\n",
    "- [Analytics Vidhya - EDA using Python](https://www.analyticsvidhya.com/blog/2022/07/step-by-step-exploratory-data-analysis-eda-using-python/)\n",
    "- [Python Data Science Handbook](https://jakevdp.github.io/PythonDataScienceHandbook/)\n",
    "- [Elements of Data Science](https://allendowney.github.io/ElementsOfDataScience/)\n",
    "- [VADER Sentiment Analysis Documentation](https://www.nltk.org/_modules/nltk/sentiment/vader.html)"
   ]
  }
 ],
 "metadata": {
  "kernelspec": {
   "display_name": "build_env",
   "language": "python",
   "name": "python3"
  },
  "language_info": {
   "codemirror_mode": {
    "name": "ipython",
    "version": 3
   },
   "file_extension": ".py",
   "mimetype": "text/x-python",
   "name": "python",
   "nbconvert_exporter": "python",
   "pygments_lexer": "ipython3",
   "version": "3.12.4"
  }
 },
 "nbformat": 4,
 "nbformat_minor": 2
}
